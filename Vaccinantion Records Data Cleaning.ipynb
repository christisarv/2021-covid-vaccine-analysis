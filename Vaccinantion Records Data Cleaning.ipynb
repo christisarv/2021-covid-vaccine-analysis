{
 "cells": [
  {
   "cell_type": "code",
   "execution_count": 2,
   "metadata": {
    "ExecuteTime": {
     "end_time": "2021-06-25T00:18:37.627648Z",
     "start_time": "2021-06-25T00:18:35.802171Z"
    }
   },
   "outputs": [],
   "source": [
    "import pandas as pd\n",
    "%matplotlib inline\n",
    "import matplotlib.pyplot as plt"
   ]
  },
  {
   "cell_type": "code",
   "execution_count": 3,
   "metadata": {
    "ExecuteTime": {
     "end_time": "2021-06-25T00:18:37.911536Z",
     "start_time": "2021-06-25T00:18:37.631280Z"
    }
   },
   "outputs": [],
   "source": [
    "#importing all files\n",
    "nyc = pd.read_csv('vaccine-data/nyc.csv')\n",
    "houston = pd.read_csv('vaccine-data/Houston.csv')\n",
    "la = pd.read_csv('vaccine-data/la.csv')\n",
    "chicago = pd.read_csv('vaccine-data/chicago.csv')"
   ]
  },
  {
   "cell_type": "markdown",
   "metadata": {},
   "source": [
    "## Data Cleaning"
   ]
  },
  {
   "cell_type": "code",
   "execution_count": 4,
   "metadata": {
    "ExecuteTime": {
     "end_time": "2021-06-25T00:18:37.965389Z",
     "start_time": "2021-06-25T00:18:37.913524Z"
    }
   },
   "outputs": [],
   "source": [
    "#starting with new york\n",
    "nyc['city'] = 'new york' #adding location column\n",
    "nyc['date'] = pd.to_datetime(nyc['DATE']) #converting dates to datetime"
   ]
  },
  {
   "cell_type": "code",
   "execution_count": 5,
   "metadata": {
    "ExecuteTime": {
     "end_time": "2021-06-25T00:18:37.988325Z",
     "start_time": "2021-06-25T00:18:37.968378Z"
    }
   },
   "outputs": [
    {
     "name": "stderr",
     "output_type": "stream",
     "text": [
      "C:\\Users\\christina.sarver\\Anaconda3\\envs\\learn-env\\lib\\site-packages\\ipykernel_launcher.py:2: SettingWithCopyWarning: \n",
      "A value is trying to be set on a copy of a slice from a DataFrame.\n",
      "Try using .loc[row_indexer,col_indexer] = value instead\n",
      "\n",
      "See the caveats in the documentation: http://pandas.pydata.org/pandas-docs/stable/user_guide/indexing.html#returning-a-view-versus-a-copy\n",
      "  \n"
     ]
    }
   ],
   "source": [
    "new_nyc = nyc[nyc['date'] >= '2021-01-01'] #filtering to consistent timeframe\n",
    "new_nyc['total_doses'] = new_nyc['ADMIN_ALLDOSES_DAILY'] #getting consistent column name for vaccines administered"
   ]
  },
  {
   "cell_type": "code",
   "execution_count": 6,
   "metadata": {
    "ExecuteTime": {
     "end_time": "2021-06-25T00:18:38.007273Z",
     "start_time": "2021-06-25T00:18:37.997301Z"
    }
   },
   "outputs": [
    {
     "name": "stdout",
     "output_type": "stream",
     "text": [
      "166\n",
      "166\n"
     ]
    }
   ],
   "source": [
    "print(new_nyc['date'].nunique()) #checking to make sure same number of days included\n",
    "print(len(new_nyc))"
   ]
  },
  {
   "cell_type": "code",
   "execution_count": 7,
   "metadata": {
    "ExecuteTime": {
     "end_time": "2021-06-25T00:18:38.110997Z",
     "start_time": "2021-06-25T00:18:38.011263Z"
    }
   },
   "outputs": [
    {
     "name": "stderr",
     "output_type": "stream",
     "text": [
      "C:\\Users\\christina.sarver\\Anaconda3\\envs\\learn-env\\lib\\site-packages\\ipykernel_launcher.py:4: SettingWithCopyWarning: \n",
      "A value is trying to be set on a copy of a slice from a DataFrame.\n",
      "Try using .loc[row_indexer,col_indexer] = value instead\n",
      "\n",
      "See the caveats in the documentation: http://pandas.pydata.org/pandas-docs/stable/user_guide/indexing.html#returning-a-view-versus-a-copy\n",
      "  after removing the cwd from sys.path.\n"
     ]
    }
   ],
   "source": [
    "#houston\n",
    "houston['date'] = pd.to_datetime(houston['Date_str'])\n",
    "new_houston = houston[houston['date'] >= '2021-01-01']\n",
    "new_houston['total_doses'] = new_houston['Vaccinated']"
   ]
  },
  {
   "cell_type": "code",
   "execution_count": 8,
   "metadata": {
    "ExecuteTime": {
     "end_time": "2021-06-25T00:18:38.133936Z",
     "start_time": "2021-06-25T00:18:38.113997Z"
    }
   },
   "outputs": [],
   "source": [
    "new_houston = new_houston.groupby(['date'], as_index=False).sum()\n",
    "new_houston['city'] = 'houston'"
   ]
  },
  {
   "cell_type": "code",
   "execution_count": 9,
   "metadata": {
    "ExecuteTime": {
     "end_time": "2021-06-25T00:18:38.148895Z",
     "start_time": "2021-06-25T00:18:38.141914Z"
    },
    "scrolled": true
   },
   "outputs": [],
   "source": [
    "# plt.plot(new_houston['date'], new_houston['total_doses'])"
   ]
  },
  {
   "cell_type": "code",
   "execution_count": 10,
   "metadata": {
    "ExecuteTime": {
     "end_time": "2021-06-25T00:18:38.192778Z",
     "start_time": "2021-06-25T00:18:38.151888Z"
    }
   },
   "outputs": [],
   "source": [
    "#chicago\n",
    "chicago['city'] = 'chicago'\n",
    "chicago['date'] = pd.to_datetime(chicago['Date'])\n",
    "chicago['total_doses'] = chicago['Total Doses - Daily']\n",
    "new_chicago = chicago[chicago['date'] >= '2021-01-01']"
   ]
  },
  {
   "cell_type": "code",
   "execution_count": 11,
   "metadata": {
    "ExecuteTime": {
     "end_time": "2021-06-25T00:18:38.208736Z",
     "start_time": "2021-06-25T00:18:38.195769Z"
    }
   },
   "outputs": [
    {
     "data": {
      "text/plain": [
       "166"
      ]
     },
     "execution_count": 11,
     "metadata": {},
     "output_type": "execute_result"
    }
   ],
   "source": [
    "new_chicago['date'].nunique()"
   ]
  },
  {
   "cell_type": "code",
   "execution_count": 12,
   "metadata": {
    "ExecuteTime": {
     "end_time": "2021-06-25T00:18:38.269578Z",
     "start_time": "2021-06-25T00:18:38.213721Z"
    }
   },
   "outputs": [],
   "source": [
    "la['date'] = pd.to_datetime(la['Date (Dose 1)'])\n",
    "new_la = la[la['date'] >= '2021-01-01']"
   ]
  },
  {
   "cell_type": "code",
   "execution_count": 13,
   "metadata": {
    "ExecuteTime": {
     "end_time": "2021-06-25T00:18:38.313457Z",
     "start_time": "2021-06-25T00:18:38.272565Z"
    },
    "scrolled": true
   },
   "outputs": [
    {
     "name": "stdout",
     "output_type": "stream",
     "text": [
      "<class 'pandas.core.frame.DataFrame'>\n",
      "Int64Index: 166 entries, 0 to 165\n",
      "Data columns (total 5 columns):\n",
      "date                  166 non-null datetime64[ns]\n",
      "Dose1_all             166 non-null float64\n",
      "Population (16+)      166 non-null float64\n",
      "Population (12-17)    166 non-null float64\n",
      "Population (65+)      166 non-null float64\n",
      "dtypes: datetime64[ns](1), float64(4)\n",
      "memory usage: 7.8 KB\n"
     ]
    }
   ],
   "source": [
    "new_la = new_la.groupby(['date'], as_index=False).sum()\n",
    "new_la.info()"
   ]
  },
  {
   "cell_type": "code",
   "execution_count": 14,
   "metadata": {
    "ExecuteTime": {
     "end_time": "2021-06-25T00:18:38.325424Z",
     "start_time": "2021-06-25T00:18:38.316449Z"
    },
    "scrolled": true
   },
   "outputs": [],
   "source": [
    "new_la['total_doses'] = new_la['Dose1_all']\n",
    "new_la['city'] = 'los angeles'"
   ]
  },
  {
   "cell_type": "markdown",
   "metadata": {
    "ExecuteTime": {
     "end_time": "2021-06-25T00:18:07.941648Z",
     "start_time": "2021-06-25T00:18:07.936879Z"
    }
   },
   "source": [
    "### Merging dataframes"
   ]
  },
  {
   "cell_type": "code",
   "execution_count": 15,
   "metadata": {
    "ExecuteTime": {
     "end_time": "2021-06-25T00:18:38.336393Z",
     "start_time": "2021-06-25T00:18:38.329412Z"
    }
   },
   "outputs": [],
   "source": [
    "def to_merge(dataframe):\n",
    "    city_subset = dataframe[['date', 'city', 'total_doses']]\n",
    "    return(city_subset)"
   ]
  },
  {
   "cell_type": "code",
   "execution_count": 27,
   "metadata": {
    "ExecuteTime": {
     "end_time": "2021-06-25T00:39:43.237337Z",
     "start_time": "2021-06-25T00:39:43.215398Z"
    }
   },
   "outputs": [],
   "source": [
    "nyc_merge = to_merge(new_nyc)\n",
    "houston_merge  = to_merge(new_houston)\n",
    "chicago_merge  = to_merge(new_chicago)\n",
    "la_merge  = to_merge(new_la)"
   ]
  },
  {
   "cell_type": "code",
   "execution_count": 28,
   "metadata": {
    "ExecuteTime": {
     "end_time": "2021-06-25T00:39:45.065829Z",
     "start_time": "2021-06-25T00:39:45.032572Z"
    }
   },
   "outputs": [
    {
     "data": {
      "text/html": [
       "<div>\n",
       "<style scoped>\n",
       "    .dataframe tbody tr th:only-of-type {\n",
       "        vertical-align: middle;\n",
       "    }\n",
       "\n",
       "    .dataframe tbody tr th {\n",
       "        vertical-align: top;\n",
       "    }\n",
       "\n",
       "    .dataframe thead th {\n",
       "        text-align: right;\n",
       "    }\n",
       "</style>\n",
       "<table border=\"1\" class=\"dataframe\">\n",
       "  <thead>\n",
       "    <tr style=\"text-align: right;\">\n",
       "      <th></th>\n",
       "      <th>date</th>\n",
       "      <th>city</th>\n",
       "      <th>total_doses</th>\n",
       "    </tr>\n",
       "  </thead>\n",
       "  <tbody>\n",
       "    <tr>\n",
       "      <th>0</th>\n",
       "      <td>2021-01-01</td>\n",
       "      <td>new york</td>\n",
       "      <td>167.0</td>\n",
       "    </tr>\n",
       "    <tr>\n",
       "      <th>166</th>\n",
       "      <td>2021-01-01</td>\n",
       "      <td>houston</td>\n",
       "      <td>5504.0</td>\n",
       "    </tr>\n",
       "    <tr>\n",
       "      <th>505</th>\n",
       "      <td>2021-01-01</td>\n",
       "      <td>los angeles</td>\n",
       "      <td>1112.0</td>\n",
       "    </tr>\n",
       "    <tr>\n",
       "      <th>339</th>\n",
       "      <td>2021-01-01</td>\n",
       "      <td>chicago</td>\n",
       "      <td>48.0</td>\n",
       "    </tr>\n",
       "    <tr>\n",
       "      <th>506</th>\n",
       "      <td>2021-01-02</td>\n",
       "      <td>los angeles</td>\n",
       "      <td>4548.0</td>\n",
       "    </tr>\n",
       "  </tbody>\n",
       "</table>\n",
       "</div>"
      ],
      "text/plain": [
       "          date         city  total_doses\n",
       "0   2021-01-01     new york        167.0\n",
       "166 2021-01-01      houston       5504.0\n",
       "505 2021-01-01  los angeles       1112.0\n",
       "339 2021-01-01      chicago         48.0\n",
       "506 2021-01-02  los angeles       4548.0"
      ]
     },
     "execution_count": 28,
     "metadata": {},
     "output_type": "execute_result"
    }
   ],
   "source": [
    "combined = pd.concat([nyc_merge, houston_merge, chicago_merge, la_merge],\n",
    "                     ignore_index=True, sort=False).sort_values(by='date')\n",
    "combined.head()"
   ]
  },
  {
   "cell_type": "code",
   "execution_count": 29,
   "metadata": {
    "ExecuteTime": {
     "end_time": "2021-06-25T00:39:56.055632Z",
     "start_time": "2021-06-25T00:39:56.026709Z"
    },
    "scrolled": true
   },
   "outputs": [
    {
     "data": {
      "text/html": [
       "<div>\n",
       "<style scoped>\n",
       "    .dataframe tbody tr th:only-of-type {\n",
       "        vertical-align: middle;\n",
       "    }\n",
       "\n",
       "    .dataframe tbody tr th {\n",
       "        vertical-align: top;\n",
       "    }\n",
       "\n",
       "    .dataframe thead th {\n",
       "        text-align: right;\n",
       "    }\n",
       "</style>\n",
       "<table border=\"1\" class=\"dataframe\">\n",
       "  <thead>\n",
       "    <tr style=\"text-align: right;\">\n",
       "      <th></th>\n",
       "      <th>city</th>\n",
       "      <th>total_doses</th>\n",
       "    </tr>\n",
       "    <tr>\n",
       "      <th>date</th>\n",
       "      <th></th>\n",
       "      <th></th>\n",
       "    </tr>\n",
       "  </thead>\n",
       "  <tbody>\n",
       "    <tr>\n",
       "      <th>2021-01-01</th>\n",
       "      <td>new york</td>\n",
       "      <td>167.0</td>\n",
       "    </tr>\n",
       "    <tr>\n",
       "      <th>2021-01-01</th>\n",
       "      <td>houston</td>\n",
       "      <td>5504.0</td>\n",
       "    </tr>\n",
       "    <tr>\n",
       "      <th>2021-01-01</th>\n",
       "      <td>los angeles</td>\n",
       "      <td>1112.0</td>\n",
       "    </tr>\n",
       "    <tr>\n",
       "      <th>2021-01-01</th>\n",
       "      <td>chicago</td>\n",
       "      <td>48.0</td>\n",
       "    </tr>\n",
       "    <tr>\n",
       "      <th>2021-01-02</th>\n",
       "      <td>los angeles</td>\n",
       "      <td>4548.0</td>\n",
       "    </tr>\n",
       "    <tr>\n",
       "      <th>...</th>\n",
       "      <td>...</td>\n",
       "      <td>...</td>\n",
       "    </tr>\n",
       "    <tr>\n",
       "      <th>2021-06-18</th>\n",
       "      <td>houston</td>\n",
       "      <td>377107.0</td>\n",
       "    </tr>\n",
       "    <tr>\n",
       "      <th>2021-06-19</th>\n",
       "      <td>houston</td>\n",
       "      <td>377776.0</td>\n",
       "    </tr>\n",
       "    <tr>\n",
       "      <th>2021-06-20</th>\n",
       "      <td>houston</td>\n",
       "      <td>378260.0</td>\n",
       "    </tr>\n",
       "    <tr>\n",
       "      <th>2021-06-21</th>\n",
       "      <td>houston</td>\n",
       "      <td>378260.0</td>\n",
       "    </tr>\n",
       "    <tr>\n",
       "      <th>2021-06-22</th>\n",
       "      <td>houston</td>\n",
       "      <td>378260.0</td>\n",
       "    </tr>\n",
       "  </tbody>\n",
       "</table>\n",
       "<p>671 rows × 2 columns</p>\n",
       "</div>"
      ],
      "text/plain": [
       "                   city  total_doses\n",
       "date                                \n",
       "2021-01-01     new york        167.0\n",
       "2021-01-01      houston       5504.0\n",
       "2021-01-01  los angeles       1112.0\n",
       "2021-01-01      chicago         48.0\n",
       "2021-01-02  los angeles       4548.0\n",
       "...                 ...          ...\n",
       "2021-06-18      houston     377107.0\n",
       "2021-06-19      houston     377776.0\n",
       "2021-06-20      houston     378260.0\n",
       "2021-06-21      houston     378260.0\n",
       "2021-06-22      houston     378260.0\n",
       "\n",
       "[671 rows x 2 columns]"
      ]
     },
     "execution_count": 29,
     "metadata": {},
     "output_type": "execute_result"
    }
   ],
   "source": [
    "time_indexed_combined = combined.set_index('date')\n",
    "time_indexed_combined"
   ]
  },
  {
   "cell_type": "code",
   "execution_count": 37,
   "metadata": {
    "ExecuteTime": {
     "end_time": "2021-06-25T00:45:17.270384Z",
     "start_time": "2021-06-25T00:45:17.248443Z"
    }
   },
   "outputs": [
    {
     "data": {
      "text/html": [
       "<div>\n",
       "<style scoped>\n",
       "    .dataframe tbody tr th:only-of-type {\n",
       "        vertical-align: middle;\n",
       "    }\n",
       "\n",
       "    .dataframe tbody tr th {\n",
       "        vertical-align: top;\n",
       "    }\n",
       "\n",
       "    .dataframe thead th {\n",
       "        text-align: right;\n",
       "    }\n",
       "</style>\n",
       "<table border=\"1\" class=\"dataframe\">\n",
       "  <thead>\n",
       "    <tr style=\"text-align: right;\">\n",
       "      <th></th>\n",
       "      <th>total_doses</th>\n",
       "    </tr>\n",
       "    <tr>\n",
       "      <th>date</th>\n",
       "      <th></th>\n",
       "    </tr>\n",
       "  </thead>\n",
       "  <tbody>\n",
       "    <tr>\n",
       "      <th>2021-01-01</th>\n",
       "      <td>1707.75</td>\n",
       "    </tr>\n",
       "    <tr>\n",
       "      <th>2021-01-02</th>\n",
       "      <td>4447.25</td>\n",
       "    </tr>\n",
       "    <tr>\n",
       "      <th>2021-01-03</th>\n",
       "      <td>3753.50</td>\n",
       "    </tr>\n",
       "    <tr>\n",
       "      <th>2021-01-04</th>\n",
       "      <td>10569.00</td>\n",
       "    </tr>\n",
       "    <tr>\n",
       "      <th>2021-01-05</th>\n",
       "      <td>12316.75</td>\n",
       "    </tr>\n",
       "  </tbody>\n",
       "</table>\n",
       "</div>"
      ],
      "text/plain": [
       "            total_doses\n",
       "date                   \n",
       "2021-01-01      1707.75\n",
       "2021-01-02      4447.25\n",
       "2021-01-03      3753.50\n",
       "2021-01-04     10569.00\n",
       "2021-01-05     12316.75"
      ]
     },
     "execution_count": 37,
     "metadata": {},
     "output_type": "execute_result"
    }
   ],
   "source": [
    "ti_mean = time_indexed_combined.groupby('date').mean()\n",
    "ti_mean.head()"
   ]
  },
  {
   "cell_type": "code",
   "execution_count": 39,
   "metadata": {
    "ExecuteTime": {
     "end_time": "2021-06-25T01:15:21.344784Z",
     "start_time": "2021-06-25T01:15:21.338799Z"
    }
   },
   "outputs": [],
   "source": [
    "# #resampling by month\n",
    "# ti_monthly = time_indexed_combined.resample(\"MS\")\n",
    "\n",
    "# ti_monthly_mean = ti_monthly.mean()\n",
    "\n",
    "# ti_monthly_mean.head(10)"
   ]
  },
  {
   "cell_type": "code",
   "execution_count": 38,
   "metadata": {
    "ExecuteTime": {
     "end_time": "2021-06-25T00:45:27.553247Z",
     "start_time": "2021-06-25T00:45:27.379709Z"
    }
   },
   "outputs": [
    {
     "data": {
      "text/plain": [
       "[<matplotlib.lines.Line2D at 0x2499875e780>]"
      ]
     },
     "execution_count": 38,
     "metadata": {},
     "output_type": "execute_result"
    },
    {
     "data": {
      "image/png": "[encoded data removed]",
      "text/plain": [
       "<Figure size 432x288 with 1 Axes>"
      ]
     },
     "metadata": {
      "needs_background": "light"
     },
     "output_type": "display_data"
    }
   ],
   "source": [
    "plt.plot(ti_mean)"
   ]
  },
  {
   "cell_type": "code",
   "execution_count": 46,
   "metadata": {
    "ExecuteTime": {
     "end_time": "2021-06-25T01:18:22.181436Z",
     "start_time": "2021-06-25T01:18:22.168470Z"
    }
   },
   "outputs": [],
   "source": [
    "nyc_ts = nyc_merge.set_index('date')['total_doses']\n",
    "hou_ts = houston_merge.set_index('date')['total_doses']\n",
    "chi_ts = chicago_merge.set_index('date')['total_doses']\n",
    "la_ts = la_merge.set_index('date')['total_doses']"
   ]
  },
  {
   "cell_type": "code",
   "execution_count": 53,
   "metadata": {
    "ExecuteTime": {
     "end_time": "2021-06-25T01:20:32.658899Z",
     "start_time": "2021-06-25T01:20:31.686281Z"
    }
   },
   "outputs": [
    {
     "data": {
      "text/plain": [
       "<matplotlib.legend.Legend at 0x24998abd630>"
      ]
     },
     "execution_count": 53,
     "metadata": {},
     "output_type": "execute_result"
    },
    {
     "data": {
      "image/png": "[encoded data removed]",
      "text/plain": [
       "<Figure size 432x288 with 1 Axes>"
      ]
     },
     "metadata": {
      "needs_background": "light"
     },
     "output_type": "display_data"
    }
   ],
   "source": [
    "plt.plot(nyc_ts, label='New York')\n",
    "# plt.plot(hou_ts, label='Houston')\n",
    "plt.plot(chi_ts, label='Chicago')\n",
    "plt.plot(la_ts, label='Los Angeles')\n",
    "plt.legend()\n"
   ]
  },
  {
   "cell_type": "code",
   "execution_count": null,
   "metadata": {},
   "outputs": [],
   "source": []
  },
  {
   "cell_type": "code",
   "execution_count": null,
   "metadata": {},
   "outputs": [],
   "source": []
  }
 ],
 "metadata": {
  "kernelspec": {
   "display_name": "learn-env",
   "language": "python",
   "name": "learn-env"
  },
  "language_info": {
   "codemirror_mode": {
    "name": "ipython",
    "version": 3
   },
   "file_extension": ".py",
   "mimetype": "text/x-python",
   "name": "python",
   "nbconvert_exporter": "python",
   "pygments_lexer": "ipython3",
   "version": "3.6.9"
  }
 },
 "nbformat": 4,
 "nbformat_minor": 4
}
