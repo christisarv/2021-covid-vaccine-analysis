{
 "cells": [
  {
   "cell_type": "code",
   "execution_count": 1,
   "metadata": {
    "ExecuteTime": {
     "end_time": "2021-06-23T01:57:19.422986Z",
     "start_time": "2021-06-23T01:57:12.834661Z"
    }
   },
   "outputs": [],
   "source": [
    "import pandas as pd\n",
    "%matplotlib inline\n",
    "import matplotlib.pyplot as plt"
   ]
  },
  {
   "cell_type": "code",
   "execution_count": 34,
   "metadata": {
    "ExecuteTime": {
     "end_time": "2021-06-23T02:11:15.621430Z",
     "start_time": "2021-06-23T02:11:15.134933Z"
    }
   },
   "outputs": [],
   "source": [
    "nyc = pd.read_csv('vaccine-data/nyc.csv')\n",
    "houston = pd.read_csv('vaccine-data/Houston.csv')\n",
    "la = pd.read_csv('vaccine-data/la.csv')\n",
    "chicago = pd.read_csv('vaccine-data/chicago.csv')"
   ]
  },
  {
   "cell_type": "code",
   "execution_count": null,
   "metadata": {},
   "outputs": [],
   "source": [
    "## Cleaning dataframes"
   ]
  },
  {
   "cell_type": "code",
   "execution_count": 23,
   "metadata": {
    "ExecuteTime": {
     "end_time": "2021-06-23T02:03:49.575568Z",
     "start_time": "2021-06-23T02:03:49.521487Z"
    }
   },
   "outputs": [],
   "source": [
    "nyc['city'] = 'new york'\n",
    "nyc['date'] = pd.to_datetime(nyc['DATE'])"
   ]
  },
  {
   "cell_type": "code",
   "execution_count": 24,
   "metadata": {
    "ExecuteTime": {
     "end_time": "2021-06-23T02:03:53.355681Z",
     "start_time": "2021-06-23T02:03:53.326786Z"
    }
   },
   "outputs": [
    {
     "name": "stderr",
     "output_type": "stream",
     "text": [
      "C:\\Users\\christina.sarver\\Anaconda3\\envs\\learn-env\\lib\\site-packages\\ipykernel_launcher.py:2: SettingWithCopyWarning: \n",
      "A value is trying to be set on a copy of a slice from a DataFrame.\n",
      "Try using .loc[row_indexer,col_indexer] = value instead\n",
      "\n",
      "See the caveats in the documentation: http://pandas.pydata.org/pandas-docs/stable/user_guide/indexing.html#returning-a-view-versus-a-copy\n",
      "  \n"
     ]
    }
   ],
   "source": [
    "new_nyc = nyc[nyc['date'] >= '2021-01-01']\n",
    "new_nyc['total_doses'] = new_nyc['ADMIN_ALLDOSES_DAILY'] "
   ]
  },
  {
   "cell_type": "code",
   "execution_count": 25,
   "metadata": {
    "ExecuteTime": {
     "end_time": "2021-06-23T02:03:59.094651Z",
     "start_time": "2021-06-23T02:03:59.083746Z"
    }
   },
   "outputs": [
    {
     "name": "stdout",
     "output_type": "stream",
     "text": [
      "166\n",
      "166\n"
     ]
    }
   ],
   "source": [
    "print(new_nyc['date'].nunique())\n",
    "print(len(new_nyc))"
   ]
  },
  {
   "cell_type": "code",
   "execution_count": null,
   "metadata": {},
   "outputs": [],
   "source": [
    "#houston"
   ]
  },
  {
   "cell_type": "code",
   "execution_count": 35,
   "metadata": {
    "ExecuteTime": {
     "end_time": "2021-06-23T02:11:19.525475Z",
     "start_time": "2021-06-23T02:11:19.385435Z"
    }
   },
   "outputs": [
    {
     "name": "stderr",
     "output_type": "stream",
     "text": [
      "C:\\Users\\christina.sarver\\Anaconda3\\envs\\learn-env\\lib\\site-packages\\ipykernel_launcher.py:3: SettingWithCopyWarning: \n",
      "A value is trying to be set on a copy of a slice from a DataFrame.\n",
      "Try using .loc[row_indexer,col_indexer] = value instead\n",
      "\n",
      "See the caveats in the documentation: http://pandas.pydata.org/pandas-docs/stable/user_guide/indexing.html#returning-a-view-versus-a-copy\n",
      "  This is separate from the ipykernel package so we can avoid doing imports until\n"
     ]
    }
   ],
   "source": [
    "houston['date'] = pd.to_datetime(houston['Date_str'])\n",
    "new_houston = houston[houston['date'] >= '2021-01-01']\n",
    "new_houston['total_doses'] = new_houston['Vaccinated']"
   ]
  },
  {
   "cell_type": "code",
   "execution_count": 36,
   "metadata": {
    "ExecuteTime": {
     "end_time": "2021-06-23T02:11:21.331412Z",
     "start_time": "2021-06-23T02:11:21.304733Z"
    }
   },
   "outputs": [],
   "source": [
    "new_houston = new_houston.groupby(['date'], as_index=False).sum()\n",
    "new_houston['city'] = 'houston'"
   ]
  },
  {
   "cell_type": "code",
   "execution_count": 10,
   "metadata": {
    "ExecuteTime": {
     "end_time": "2021-06-23T01:57:50.588211Z",
     "start_time": "2021-06-23T01:57:50.057197Z"
    },
    "scrolled": true
   },
   "outputs": [
    {
     "name": "stderr",
     "output_type": "stream",
     "text": [
      "C:\\Users\\christina.sarver\\Anaconda3\\envs\\learn-env\\lib\\site-packages\\pandas\\plotting\\_matplotlib\\converter.py:103: FutureWarning: Using an implicitly registered datetime converter for a matplotlib plotting method. The converter was registered by pandas on import. Future versions of pandas will require you to explicitly register matplotlib converters.\n",
      "\n",
      "To register the converters:\n",
      "\t>>> from pandas.plotting import register_matplotlib_converters\n",
      "\t>>> register_matplotlib_converters()\n",
      "  warnings.warn(msg, FutureWarning)\n"
     ]
    },
    {
     "data": {
      "text/plain": [
       "[<matplotlib.lines.Line2D at 0x2173de6c978>]"
      ]
     },
     "execution_count": 10,
     "metadata": {},
     "output_type": "execute_result"
    },
    {
     "data": {
      "image/png": "[encoded data removed]",
      "text/plain": [
       "<Figure size 432x288 with 1 Axes>"
      ]
     },
     "metadata": {
      "needs_background": "light"
     },
     "output_type": "display_data"
    }
   ],
   "source": [
    "plt.plot(new_houston['date'], new_houston['total_doses'])"
   ]
  },
  {
   "cell_type": "code",
   "execution_count": null,
   "metadata": {},
   "outputs": [],
   "source": [
    "#chicago"
   ]
  },
  {
   "cell_type": "code",
   "execution_count": 32,
   "metadata": {
    "ExecuteTime": {
     "end_time": "2021-06-23T02:09:32.447462Z",
     "start_time": "2021-06-23T02:09:32.382781Z"
    }
   },
   "outputs": [],
   "source": [
    "chicago['city'] = 'chicago'\n",
    "chicago['date'] = pd.to_datetime(chicago['Date'])\n",
    "chicago['total_doses'] = chicago['Total Doses - Daily']\n",
    "new_chicago = chicago[chicago['date'] >= '2021-01-01']"
   ]
  },
  {
   "cell_type": "code",
   "execution_count": 33,
   "metadata": {
    "ExecuteTime": {
     "end_time": "2021-06-23T02:09:34.382546Z",
     "start_time": "2021-06-23T02:09:34.372401Z"
    }
   },
   "outputs": [
    {
     "data": {
      "text/plain": [
       "166"
      ]
     },
     "execution_count": 33,
     "metadata": {},
     "output_type": "execute_result"
    }
   ],
   "source": [
    "new_chicago['date'].nunique()"
   ]
  },
  {
   "cell_type": "code",
   "execution_count": 27,
   "metadata": {
    "ExecuteTime": {
     "end_time": "2021-06-23T02:07:17.589492Z",
     "start_time": "2021-06-23T02:07:17.486809Z"
    }
   },
   "outputs": [],
   "source": [
    "la['date'] = pd.to_datetime(la['Date (Dose 1)'])\n",
    "new_la = la[la['date'] >= '2021-01-01']"
   ]
  },
  {
   "cell_type": "code",
   "execution_count": 28,
   "metadata": {
    "ExecuteTime": {
     "end_time": "2021-06-23T02:07:19.910025Z",
     "start_time": "2021-06-23T02:07:19.835668Z"
    },
    "scrolled": true
   },
   "outputs": [
    {
     "name": "stdout",
     "output_type": "stream",
     "text": [
      "<class 'pandas.core.frame.DataFrame'>\n",
      "Int64Index: 166 entries, 0 to 165\n",
      "Data columns (total 5 columns):\n",
      "date                  166 non-null datetime64[ns]\n",
      "Dose1_all             166 non-null float64\n",
      "Population (16+)      166 non-null float64\n",
      "Population (12-17)    166 non-null float64\n",
      "Population (65+)      166 non-null float64\n",
      "dtypes: datetime64[ns](1), float64(4)\n",
      "memory usage: 7.8 KB\n"
     ]
    }
   ],
   "source": [
    "new_la = new_la.groupby(['date'], as_index=False).sum()\n",
    "new_la.info()"
   ]
  },
  {
   "cell_type": "code",
   "execution_count": 29,
   "metadata": {
    "ExecuteTime": {
     "end_time": "2021-06-23T02:07:22.820948Z",
     "start_time": "2021-06-23T02:07:22.807065Z"
    },
    "scrolled": true
   },
   "outputs": [],
   "source": [
    "new_la['total_doses'] = new_la['Dose1_all']\n",
    "new_la['city'] = 'los angeles'"
   ]
  },
  {
   "cell_type": "code",
   "execution_count": 30,
   "metadata": {
    "ExecuteTime": {
     "end_time": "2021-06-23T02:07:24.616403Z",
     "start_time": "2021-06-23T02:07:24.584459Z"
    },
    "scrolled": true
   },
   "outputs": [
    {
     "data": {
      "text/html": [
       "<div>\n",
       "<style scoped>\n",
       "    .dataframe tbody tr th:only-of-type {\n",
       "        vertical-align: middle;\n",
       "    }\n",
       "\n",
       "    .dataframe tbody tr th {\n",
       "        vertical-align: top;\n",
       "    }\n",
       "\n",
       "    .dataframe thead th {\n",
       "        text-align: right;\n",
       "    }\n",
       "</style>\n",
       "<table border=\"1\" class=\"dataframe\">\n",
       "  <thead>\n",
       "    <tr style=\"text-align: right;\">\n",
       "      <th></th>\n",
       "      <th>date</th>\n",
       "      <th>Dose1_all</th>\n",
       "      <th>Population (16+)</th>\n",
       "      <th>Population (12-17)</th>\n",
       "      <th>Population (65+)</th>\n",
       "      <th>total_doses</th>\n",
       "      <th>city</th>\n",
       "    </tr>\n",
       "  </thead>\n",
       "  <tbody>\n",
       "    <tr>\n",
       "      <th>0</th>\n",
       "      <td>2021-01-01</td>\n",
       "      <td>1112.0</td>\n",
       "      <td>8325489.0</td>\n",
       "      <td>253131.0</td>\n",
       "      <td>1373617.0</td>\n",
       "      <td>1112.0</td>\n",
       "      <td>los angeles</td>\n",
       "    </tr>\n",
       "    <tr>\n",
       "      <th>1</th>\n",
       "      <td>2021-01-02</td>\n",
       "      <td>4548.0</td>\n",
       "      <td>8325489.0</td>\n",
       "      <td>253131.0</td>\n",
       "      <td>1373617.0</td>\n",
       "      <td>4548.0</td>\n",
       "      <td>los angeles</td>\n",
       "    </tr>\n",
       "    <tr>\n",
       "      <th>2</th>\n",
       "      <td>2021-01-03</td>\n",
       "      <td>986.0</td>\n",
       "      <td>8325489.0</td>\n",
       "      <td>253131.0</td>\n",
       "      <td>1373617.0</td>\n",
       "      <td>986.0</td>\n",
       "      <td>los angeles</td>\n",
       "    </tr>\n",
       "    <tr>\n",
       "      <th>3</th>\n",
       "      <td>2021-01-04</td>\n",
       "      <td>12831.0</td>\n",
       "      <td>8325489.0</td>\n",
       "      <td>253131.0</td>\n",
       "      <td>1373617.0</td>\n",
       "      <td>12831.0</td>\n",
       "      <td>los angeles</td>\n",
       "    </tr>\n",
       "    <tr>\n",
       "      <th>4</th>\n",
       "      <td>2021-01-05</td>\n",
       "      <td>14230.0</td>\n",
       "      <td>8325489.0</td>\n",
       "      <td>253131.0</td>\n",
       "      <td>1373617.0</td>\n",
       "      <td>14230.0</td>\n",
       "      <td>los angeles</td>\n",
       "    </tr>\n",
       "  </tbody>\n",
       "</table>\n",
       "</div>"
      ],
      "text/plain": [
       "        date  Dose1_all  Population (16+)  Population (12-17)  \\\n",
       "0 2021-01-01     1112.0         8325489.0            253131.0   \n",
       "1 2021-01-02     4548.0         8325489.0            253131.0   \n",
       "2 2021-01-03      986.0         8325489.0            253131.0   \n",
       "3 2021-01-04    12831.0         8325489.0            253131.0   \n",
       "4 2021-01-05    14230.0         8325489.0            253131.0   \n",
       "\n",
       "   Population (65+)  total_doses         city  \n",
       "0         1373617.0       1112.0  los angeles  \n",
       "1         1373617.0       4548.0  los angeles  \n",
       "2         1373617.0        986.0  los angeles  \n",
       "3         1373617.0      12831.0  los angeles  \n",
       "4         1373617.0      14230.0  los angeles  "
      ]
     },
     "execution_count": 30,
     "metadata": {},
     "output_type": "execute_result"
    }
   ],
   "source": [
    "new_la.head()"
   ]
  },
  {
   "cell_type": "code",
   "execution_count": null,
   "metadata": {},
   "outputs": [],
   "source": [
    "## Merging dataframes"
   ]
  },
  {
   "cell_type": "code",
   "execution_count": 16,
   "metadata": {
    "ExecuteTime": {
     "end_time": "2021-06-23T01:58:05.748174Z",
     "start_time": "2021-06-23T01:58:05.733998Z"
    }
   },
   "outputs": [],
   "source": [
    "def to_merge(dataframe):\n",
    "    city_subset = dataframe[['date', 'city', 'total_doses']]\n",
    "    return(city_subset)"
   ]
  },
  {
   "cell_type": "code",
   "execution_count": 17,
   "metadata": {
    "ExecuteTime": {
     "end_time": "2021-06-23T01:58:07.530680Z",
     "start_time": "2021-06-23T01:58:07.509571Z"
    }
   },
   "outputs": [],
   "source": [
    "nyc_merge = to_merge(new_nyc)\n",
    "houston_merge  = to_merge(new_houston)\n",
    "chicago_merge  = to_merge(new_chicago)\n",
    "la_merge  = to_merge(new_la)"
   ]
  },
  {
   "cell_type": "code",
   "execution_count": 18,
   "metadata": {
    "ExecuteTime": {
     "end_time": "2021-06-23T01:58:09.955087Z",
     "start_time": "2021-06-23T01:58:09.946721Z"
    }
   },
   "outputs": [],
   "source": [
    "combined = pd.concat([nyc_merge, houston_merge, chicago_merge, la_merge], ignore_index=True, sort=False)"
   ]
  },
  {
   "cell_type": "code",
   "execution_count": 19,
   "metadata": {
    "ExecuteTime": {
     "end_time": "2021-06-23T01:58:12.140947Z",
     "start_time": "2021-06-23T01:58:12.123462Z"
    }
   },
   "outputs": [],
   "source": [
    "ordered_combined = combined.sort_values(by='date')"
   ]
  },
  {
   "cell_type": "code",
   "execution_count": 21,
   "metadata": {
    "ExecuteTime": {
     "end_time": "2021-06-23T01:58:18.614485Z",
     "start_time": "2021-06-23T01:58:18.591033Z"
    }
   },
   "outputs": [
    {
     "data": {
      "text/html": [
       "<div>\n",
       "<style scoped>\n",
       "    .dataframe tbody tr th:only-of-type {\n",
       "        vertical-align: middle;\n",
       "    }\n",
       "\n",
       "    .dataframe tbody tr th {\n",
       "        vertical-align: top;\n",
       "    }\n",
       "\n",
       "    .dataframe thead th {\n",
       "        text-align: right;\n",
       "    }\n",
       "</style>\n",
       "<table border=\"1\" class=\"dataframe\">\n",
       "  <thead>\n",
       "    <tr style=\"text-align: right;\">\n",
       "      <th></th>\n",
       "      <th>date</th>\n",
       "      <th>city</th>\n",
       "      <th>total_doses</th>\n",
       "    </tr>\n",
       "  </thead>\n",
       "  <tbody>\n",
       "    <tr>\n",
       "      <th>161</th>\n",
       "      <td>2021-06-11</td>\n",
       "      <td>new york</td>\n",
       "      <td>25893</td>\n",
       "    </tr>\n",
       "    <tr>\n",
       "      <th>329</th>\n",
       "      <td>2021-06-11</td>\n",
       "      <td>chicago</td>\n",
       "      <td>5664</td>\n",
       "    </tr>\n",
       "    <tr>\n",
       "      <th>325</th>\n",
       "      <td>2021-06-11</td>\n",
       "      <td>houston</td>\n",
       "      <td>1207693</td>\n",
       "    </tr>\n",
       "    <tr>\n",
       "      <th>326</th>\n",
       "      <td>2021-06-12</td>\n",
       "      <td>houston</td>\n",
       "      <td>1210132</td>\n",
       "    </tr>\n",
       "    <tr>\n",
       "      <th>162</th>\n",
       "      <td>2021-06-12</td>\n",
       "      <td>new york</td>\n",
       "      <td>23412</td>\n",
       "    </tr>\n",
       "    <tr>\n",
       "      <th>330</th>\n",
       "      <td>2021-06-12</td>\n",
       "      <td>chicago</td>\n",
       "      <td>6908</td>\n",
       "    </tr>\n",
       "    <tr>\n",
       "      <th>327</th>\n",
       "      <td>2021-06-13</td>\n",
       "      <td>houston</td>\n",
       "      <td>1212310</td>\n",
       "    </tr>\n",
       "    <tr>\n",
       "      <th>163</th>\n",
       "      <td>2021-06-13</td>\n",
       "      <td>new york</td>\n",
       "      <td>6018</td>\n",
       "    </tr>\n",
       "    <tr>\n",
       "      <th>331</th>\n",
       "      <td>2021-06-13</td>\n",
       "      <td>chicago</td>\n",
       "      <td>1469</td>\n",
       "    </tr>\n",
       "    <tr>\n",
       "      <th>328</th>\n",
       "      <td>2021-06-14</td>\n",
       "      <td>houston</td>\n",
       "      <td>1212310</td>\n",
       "    </tr>\n",
       "  </tbody>\n",
       "</table>\n",
       "</div>"
      ],
      "text/plain": [
       "          date      city  total_doses\n",
       "161 2021-06-11  new york        25893\n",
       "329 2021-06-11   chicago         5664\n",
       "325 2021-06-11   houston      1207693\n",
       "326 2021-06-12   houston      1210132\n",
       "162 2021-06-12  new york        23412\n",
       "330 2021-06-12   chicago         6908\n",
       "327 2021-06-13   houston      1212310\n",
       "163 2021-06-13  new york         6018\n",
       "331 2021-06-13   chicago         1469\n",
       "328 2021-06-14   houston      1212310"
      ]
     },
     "execution_count": 21,
     "metadata": {},
     "output_type": "execute_result"
    }
   ],
   "source": [
    "ordered_combined.tail(10)"
   ]
  },
  {
   "cell_type": "code",
   "execution_count": null,
   "metadata": {},
   "outputs": [],
   "source": []
  },
  {
   "cell_type": "code",
   "execution_count": null,
   "metadata": {},
   "outputs": [],
   "source": []
  },
  {
   "cell_type": "code",
   "execution_count": null,
   "metadata": {},
   "outputs": [],
   "source": []
  },
  {
   "cell_type": "code",
   "execution_count": null,
   "metadata": {},
   "outputs": [],
   "source": []
  }
 ],
 "metadata": {
  "kernelspec": {
   "display_name": "learn-env",
   "language": "python",
   "name": "learn-env"
  },
  "language_info": {
   "codemirror_mode": {
    "name": "ipython",
    "version": 3
   },
   "file_extension": ".py",
   "mimetype": "text/x-python",
   "name": "python",
   "nbconvert_exporter": "python",
   "pygments_lexer": "ipython3",
   "version": "3.6.9"
  }
 },
 "nbformat": 4,
 "nbformat_minor": 4
}
