{
 "cells": [
  {
   "cell_type": "code",
   "execution_count": 4,
   "metadata": {},
   "outputs": [],
   "source": [
    "import twint"
   ]
  },
  {
   "cell_type": "code",
   "execution_count": 7,
   "metadata": {},
   "outputs": [
    {
     "name": "stdout",
     "output_type": "stream",
     "text": [
      "2021-01-01 00:00:00\n",
      "2021-05-01 00:00:00\n"
     ]
    }
   ],
   "source": [
    "import datetime\n",
    "since = datetime.datetime(2021, 1, 1)\n",
    "until = datetime.datetime(2021, 5, 1)\n",
    "print(since)\n",
    "print(until)"
   ]
  },
  {
   "cell_type": "code",
   "execution_count": 10,
   "metadata": {},
   "outputs": [
    {
     "ename": "RuntimeError",
     "evalue": "This event loop is already running",
     "output_type": "error",
     "traceback": [
      "\u001b[1;31m---------------------------------------------------------------------------\u001b[0m",
      "\u001b[1;31mRuntimeError\u001b[0m                              Traceback (most recent call last)",
      "\u001b[1;32m<ipython-input-10-b6ccb13b5519>\u001b[0m in \u001b[0;36m<module>\u001b[1;34m\u001b[0m\n\u001b[0;32m     10\u001b[0m \u001b[0mconfig\u001b[0m\u001b[1;33m.\u001b[0m\u001b[0mOutput\u001b[0m \u001b[1;33m=\u001b[0m \u001b[1;34m\"twint_test.csv\"\u001b[0m\u001b[1;33m\u001b[0m\u001b[1;33m\u001b[0m\u001b[0m\n\u001b[0;32m     11\u001b[0m \u001b[1;31m#running search\u001b[0m\u001b[1;33m\u001b[0m\u001b[1;33m\u001b[0m\u001b[1;33m\u001b[0m\u001b[0m\n\u001b[1;32m---> 12\u001b[1;33m \u001b[0moutput\u001b[0m \u001b[1;33m=\u001b[0m \u001b[0mtwint\u001b[0m\u001b[1;33m.\u001b[0m\u001b[0mrun\u001b[0m\u001b[1;33m.\u001b[0m\u001b[0mSearch\u001b[0m\u001b[1;33m(\u001b[0m\u001b[0mconfig\u001b[0m\u001b[1;33m)\u001b[0m\u001b[1;33m\u001b[0m\u001b[1;33m\u001b[0m\u001b[0m\n\u001b[0m",
      "\u001b[1;32mc:\\users\\christina.sarver\\documents\\flatiron\\phase5\\capstone-practice\\src\\twint\\twint\\run.py\u001b[0m in \u001b[0;36mSearch\u001b[1;34m(config, callback)\u001b[0m\n\u001b[0;32m    408\u001b[0m     \u001b[0mconfig\u001b[0m\u001b[1;33m.\u001b[0m\u001b[0mFollowers\u001b[0m \u001b[1;33m=\u001b[0m \u001b[1;32mFalse\u001b[0m\u001b[1;33m\u001b[0m\u001b[1;33m\u001b[0m\u001b[0m\n\u001b[0;32m    409\u001b[0m     \u001b[0mconfig\u001b[0m\u001b[1;33m.\u001b[0m\u001b[0mProfile\u001b[0m \u001b[1;33m=\u001b[0m \u001b[1;32mFalse\u001b[0m\u001b[1;33m\u001b[0m\u001b[1;33m\u001b[0m\u001b[0m\n\u001b[1;32m--> 410\u001b[1;33m     \u001b[0mrun\u001b[0m\u001b[1;33m(\u001b[0m\u001b[0mconfig\u001b[0m\u001b[1;33m,\u001b[0m \u001b[0mcallback\u001b[0m\u001b[1;33m)\u001b[0m\u001b[1;33m\u001b[0m\u001b[1;33m\u001b[0m\u001b[0m\n\u001b[0m\u001b[0;32m    411\u001b[0m     \u001b[1;32mif\u001b[0m \u001b[0mconfig\u001b[0m\u001b[1;33m.\u001b[0m\u001b[0mPandas_au\u001b[0m\u001b[1;33m:\u001b[0m\u001b[1;33m\u001b[0m\u001b[1;33m\u001b[0m\u001b[0m\n\u001b[0;32m    412\u001b[0m         \u001b[0mstorage\u001b[0m\u001b[1;33m.\u001b[0m\u001b[0mpanda\u001b[0m\u001b[1;33m.\u001b[0m\u001b[0m_autoget\u001b[0m\u001b[1;33m(\u001b[0m\u001b[1;34m\"tweet\"\u001b[0m\u001b[1;33m)\u001b[0m\u001b[1;33m\u001b[0m\u001b[1;33m\u001b[0m\u001b[0m\n",
      "\u001b[1;32mc:\\users\\christina.sarver\\documents\\flatiron\\phase5\\capstone-practice\\src\\twint\\twint\\run.py\u001b[0m in \u001b[0;36mrun\u001b[1;34m(config, callback)\u001b[0m\n\u001b[0;32m    327\u001b[0m         \u001b[1;32mraise\u001b[0m\u001b[1;33m\u001b[0m\u001b[1;33m\u001b[0m\u001b[0m\n\u001b[0;32m    328\u001b[0m \u001b[1;33m\u001b[0m\u001b[0m\n\u001b[1;32m--> 329\u001b[1;33m     \u001b[0mget_event_loop\u001b[0m\u001b[1;33m(\u001b[0m\u001b[1;33m)\u001b[0m\u001b[1;33m.\u001b[0m\u001b[0mrun_until_complete\u001b[0m\u001b[1;33m(\u001b[0m\u001b[0mTwint\u001b[0m\u001b[1;33m(\u001b[0m\u001b[0mconfig\u001b[0m\u001b[1;33m)\u001b[0m\u001b[1;33m.\u001b[0m\u001b[0mmain\u001b[0m\u001b[1;33m(\u001b[0m\u001b[0mcallback\u001b[0m\u001b[1;33m)\u001b[0m\u001b[1;33m)\u001b[0m\u001b[1;33m\u001b[0m\u001b[1;33m\u001b[0m\u001b[0m\n\u001b[0m\u001b[0;32m    330\u001b[0m \u001b[1;33m\u001b[0m\u001b[0m\n\u001b[0;32m    331\u001b[0m \u001b[1;33m\u001b[0m\u001b[0m\n",
      "\u001b[1;32m~\\Anaconda3\\envs\\capstone\\lib\\asyncio\\base_events.py\u001b[0m in \u001b[0;36mrun_until_complete\u001b[1;34m(self, future)\u001b[0m\n\u001b[0;32m    469\u001b[0m         \u001b[0mfuture\u001b[0m\u001b[1;33m.\u001b[0m\u001b[0madd_done_callback\u001b[0m\u001b[1;33m(\u001b[0m\u001b[0m_run_until_complete_cb\u001b[0m\u001b[1;33m)\u001b[0m\u001b[1;33m\u001b[0m\u001b[1;33m\u001b[0m\u001b[0m\n\u001b[0;32m    470\u001b[0m         \u001b[1;32mtry\u001b[0m\u001b[1;33m:\u001b[0m\u001b[1;33m\u001b[0m\u001b[1;33m\u001b[0m\u001b[0m\n\u001b[1;32m--> 471\u001b[1;33m             \u001b[0mself\u001b[0m\u001b[1;33m.\u001b[0m\u001b[0mrun_forever\u001b[0m\u001b[1;33m(\u001b[0m\u001b[1;33m)\u001b[0m\u001b[1;33m\u001b[0m\u001b[1;33m\u001b[0m\u001b[0m\n\u001b[0m\u001b[0;32m    472\u001b[0m         \u001b[1;32mexcept\u001b[0m\u001b[1;33m:\u001b[0m\u001b[1;33m\u001b[0m\u001b[1;33m\u001b[0m\u001b[0m\n\u001b[0;32m    473\u001b[0m             \u001b[1;32mif\u001b[0m \u001b[0mnew_task\u001b[0m \u001b[1;32mand\u001b[0m \u001b[0mfuture\u001b[0m\u001b[1;33m.\u001b[0m\u001b[0mdone\u001b[0m\u001b[1;33m(\u001b[0m\u001b[1;33m)\u001b[0m \u001b[1;32mand\u001b[0m \u001b[1;32mnot\u001b[0m \u001b[0mfuture\u001b[0m\u001b[1;33m.\u001b[0m\u001b[0mcancelled\u001b[0m\u001b[1;33m(\u001b[0m\u001b[1;33m)\u001b[0m\u001b[1;33m:\u001b[0m\u001b[1;33m\u001b[0m\u001b[1;33m\u001b[0m\u001b[0m\n",
      "\u001b[1;32m~\\Anaconda3\\envs\\capstone\\lib\\asyncio\\base_events.py\u001b[0m in \u001b[0;36mrun_forever\u001b[1;34m(self)\u001b[0m\n\u001b[0;32m    423\u001b[0m         \u001b[0mself\u001b[0m\u001b[1;33m.\u001b[0m\u001b[0m_check_closed\u001b[0m\u001b[1;33m(\u001b[0m\u001b[1;33m)\u001b[0m\u001b[1;33m\u001b[0m\u001b[1;33m\u001b[0m\u001b[0m\n\u001b[0;32m    424\u001b[0m         \u001b[1;32mif\u001b[0m \u001b[0mself\u001b[0m\u001b[1;33m.\u001b[0m\u001b[0mis_running\u001b[0m\u001b[1;33m(\u001b[0m\u001b[1;33m)\u001b[0m\u001b[1;33m:\u001b[0m\u001b[1;33m\u001b[0m\u001b[1;33m\u001b[0m\u001b[0m\n\u001b[1;32m--> 425\u001b[1;33m             \u001b[1;32mraise\u001b[0m \u001b[0mRuntimeError\u001b[0m\u001b[1;33m(\u001b[0m\u001b[1;34m'This event loop is already running'\u001b[0m\u001b[1;33m)\u001b[0m\u001b[1;33m\u001b[0m\u001b[1;33m\u001b[0m\u001b[0m\n\u001b[0m\u001b[0;32m    426\u001b[0m         \u001b[1;32mif\u001b[0m \u001b[0mevents\u001b[0m\u001b[1;33m.\u001b[0m\u001b[0m_get_running_loop\u001b[0m\u001b[1;33m(\u001b[0m\u001b[1;33m)\u001b[0m \u001b[1;32mis\u001b[0m \u001b[1;32mnot\u001b[0m \u001b[1;32mNone\u001b[0m\u001b[1;33m:\u001b[0m\u001b[1;33m\u001b[0m\u001b[1;33m\u001b[0m\u001b[0m\n\u001b[0;32m    427\u001b[0m             raise RuntimeError(\n",
      "\u001b[1;31mRuntimeError\u001b[0m: This event loop is already running"
     ]
    },
    {
     "name": "stdout",
     "output_type": "stream",
     "text": [
      "1387907091256467463 2021-04-29 19:10:11 -0400 <TheWedgeSerpent> Getting my second dose of the vaccine tomorrow. Years of bad hangovers have taught me a few things, so I stocked up on Pedialyte today.\n",
      "1387906099261677573 2021-04-29 19:06:14 -0400 <RyAlexander222> Just got my 2nd vaccine shot, and I’m excited that we’re actually gonna start opening back up! 😁🥳\n",
      "1387900203798343681 2021-04-29 18:42:49 -0400 <KinkaidChloe> the moderna vaccine kicked my ass 15 hours after getting it im not feeling well 😀👍\n",
      "1387890761811873806 2021-04-29 18:05:18 -0400 <RealParkerJ> @MAINEVNTtheDJ pretty much all of Chicagoland proper is open for vaccines\n",
      "1387849160855068679 2021-04-29 15:19:59 -0400 <gretchenminz> Got the second dose of the vaccine yesterday and my dog and I have been laying in bed all day..... he knows\n",
      "1387847612787736580 2021-04-29 15:13:50 -0400 <giftfromvirgos> oomf got the johnson &amp; johnson vaccine last month and ain’t tweeted since 😣\n",
      "1387839336649986053 2021-04-29 14:40:57 -0400 <WilliamBHoenig> Great thread on the impossibility of #ZeroCovid in the UK.  Vaccines are the endgame.\n",
      "1387824948929044485 2021-04-29 13:43:47 -0400 <matthew_podszus> @HandSabocik Their current tourist attraction in my neck of the woods is the FEMA outpost doing Covid vaccines at the old Roosevelt high school! I’m headed there on Monday! Second dose!\n",
      "1387821972214763525 2021-04-29 13:31:57 -0400 <i_am_kyry> Its gonna be wild watching the vaccine rate plateau underneath heard immunity, variants spread quicker at a deadlier rate, and most of the country demanding a wild summer at this point over the next three weeks 🙃\n",
      "1387818102184939525 2021-04-29 13:16:34 -0400 <pveiga16> We finally have an update! “... guests that are fully vaccinated – defined as 14 days after receiving their final vaccine dose – will not count towards capacity limits at private events such as weddings.” #chicago #Wedding #Lightfoot  https://t.co/1OhHbXj45k\n",
      "1387818074640896001 2021-04-29 13:16:28 -0400 <GBousis> @markpinc There’s the obvious push for supplies/aid and then the conversation around the Intellectual property of the vaccine and who replicate. Seems a lot like chess re. China being overly generous w/ India for positioning.\n",
      "1387812284215463938 2021-04-29 12:53:27 -0400 <SEAwence> Getting my second vaccine shot at Wrigley Field today, which is the 38 year anniversary of Lee Elia’s rant.    https://t.co/uieSQezrIo\n",
      "1387809617556787208 2021-04-29 12:42:51 -0400 <badmonte_> girl at the vaccine site complimented my DOOM hoodie 👉🏼👈🏼\n",
      "1387800744775098369 2021-04-29 12:07:36 -0400 <Dredded_Laramie> @TomSchuIz I got the vaccine and ran 2 marathons\n",
      "1387798351127760898 2021-04-29 11:58:05 -0400 <aaalvrdo> I’ve got the anxiety poopz and the covid vaccine day after poopz so my Thursday is going splendid\n",
      "1387783695134822400 2021-04-29 10:59:51 -0400 <CharsTreehouse> The FDA said you all better smoke these vaccines!!!!!\n",
      "1387779314955993098 2021-04-29 10:42:27 -0400 <CodaRevolt> Okay I’m sore as fuck from this vaccine.\n",
      "1387776858398380040 2021-04-29 10:32:41 -0400 <GammaCounter> \"These observations indicate a potential risk of illness after successful vaccination &amp; subsequent infection with variant virus, &amp; they provide support for continued efforts to prevent infection.\" \"Vaccine Breakthrough Infections with SARS-CoV-2 Variants.\"  https://t.co/AJzXvpTedQ  https://t.co/ZUPe2Zptis\n",
      "1387774474339110918 2021-04-29 10:23:12 -0400 <Tom_in_Ohio> @KuKhahilNBA enjoying your transition...re the vaccine, sorry,  moderna 2 most often gets a bigger reaction...was for me...4 naps!\n",
      "1387769715846692871 2021-04-29 10:04:18 -0400 <tsturk8> I mean Trump delivered the vaccine that’s just a fact\n",
      "1387763863228190722 2021-04-29 09:41:03 -0400 <Donillini> @papen_s @chicagosmayor @POTUS The vaccines were developed by Pfizer, J&amp;J, and Moderna to name a few\n",
      "1387749162477781003 2021-04-29 08:42:38 -0400 <nancydhuynh> Mfw the vaccine is what it takes forces my sleep-deprecated self to get enough sleep. The second dose really knocked me out for 10 hours :0\n",
      "1387712507842793473 2021-04-29 06:16:58 -0400 <phishismyhomie> Imagine taking advice from @joerogan on vaccines. That’s about as useful as taking advice from Joe on hair styling techniques y’all 🤦‍♀️\n",
      "1387634101579132928 2021-04-29 01:05:25 -0400 <CTichy85> Northwestern really needs to read the room on commencement speakers. Honestly, Lori Lightfoot in 2020 now the CEO of a private tech company when parts of the world are dying from the Covid vaccine being privatized lmao\n",
      "1387627889064034307 2021-04-29 00:40:44 -0400 <rickperlstein> @_12th_man About 20,000 a year die of flu in the U.S.,00---not 500,000. And, without the vaccine,  next year might have been twice that.  So: yay government! Unless millions of deaths are a matter of indifference to you.\n",
      "1387607782141136900 2021-04-28 23:20:50 -0400 <rickperlstein> @_12th_man How so? I just got a free vaccine from the government.\n",
      "1387593516671438857 2021-04-28 22:24:09 -0400 <2muchmedia> @MonicaGandhi9 Very frustrating how garbled the message is. Fully vaccinated family are clinging to their masks and stewing about variants and those avoiding or refusing vaccines say, “What’s the point if you can’t do things without masks And distancing.”\n",
      "1387578619212570624 2021-04-28 21:24:57 -0400 <itskylelucas> I really can’t believe how quick and painless the vaccine is. If you’re afraid of needles like me, don’t fret. It’s literally over before you realize it’s started.\n",
      "1387564647092527107 2021-04-28 20:29:26 -0400 <Jwiz_TSimmie> Wearing a tank to the gym to flex my vaccine bandaid on everyone\n",
      "1387556485664804865 2021-04-28 19:57:00 -0400 <RealParkerJ> I give Biden a B- in his #First100Days.  biggest pros: vaccine rollouts &amp; securing covid relief with a 50-50 Senate  biggest cons: touting 47 years of gov't experience and not moving the needle, also the border crisis but I wont go out of my way to blame him for a 30yr problem\n",
      "1387553084713361409 2021-04-28 19:43:29 -0400 <billystick217> Passing my two-week incubation period after my second vaccine shot tomorrow. Can’t fucking wait to break this out again soon.  https://t.co/fN7nBKR2LD\n",
      "1387549902432047104 2021-04-28 19:30:50 -0400 <biddlebrian> @furkyourwurk Totally agree - there’s always going to be folks that abuse the system but in this case I’m not sure how? Chicago announced today some vaccine sites have a surplus and are taking walk in appointments. In the city of Chicago getting a vaccine shot should not be much of an issue.\n",
      "1387549428899368963 2021-04-28 19:28:57 -0400 <biddlebrian> @furkyourwurk We are also talking about events within the city limits so if you are coming from an outlying area away from the city to see Free Willy in the park and not to go to Walgreens to get your free vaccine then your priorities might be askew.\n",
      "1387541704589385728 2021-04-28 18:58:16 -0400 <biddlebrian> @furkyourwurk Vaccines are free in Chicago as are Uber rides if you pre-arrange and can show proof that your distinction is your vaccination location. If you can’t make the effort to get your shot then you shouldn’t be concerned about a concert or outdoor event imo.\n",
      "1387541369913217024 2021-04-28 18:56:56 -0400 <dia_kristy> @mg2411 India MAKES vaccines and meds for the WORLD!\n",
      "1387538748305461248 2021-04-28 18:46:31 -0400 <rashlawrashlaw> @SenatorTimScott The Biden administration “inherited a tide that had already turned,” he is expected to say, and it’s thanks to the Trump administration that “our country is flooded with safe and effective vaccines.” Hope you credit Obama for the improved economy Trump got 😳\n",
      "1387534116414017536 2021-04-28 18:28:07 -0400 <AnolahBlackFox> Who all got the Johnson &amp; Johnson vaccine? I’m tryna see somethin\n",
      "1387531458516951040 2021-04-28 18:17:33 -0400 <LaurenAnglin> @_davidarrington i would rather just catch covid than post a selfie with my vaccine card\n",
      "1387530583614558210 2021-04-28 18:14:04 -0400 <sarahmas> @DonWagnerCA @KathyTavoularis @CityOfOrangeCA How’s that tracking device in your pocket? Better than the one from the vaccine you got a few weeks ago? People like you are the reason I hated Orange County.\n",
      "1387529364166909956 2021-04-28 18:09:14 -0400 <LaurenAnglin> heard that the covid vaccine doesn’t actually work until you post on social media that you got the vaccine. consider this tweet my official notice of being a vaccinated queen\n",
      "1387516434255859715 2021-04-28 17:17:51 -0400 <ProfHalloran> I’m glad that the J&amp;J vaccine is back in line.\n",
      "1387516179556753410 2021-04-28 17:16:50 -0400 <drdaveoncall> Covid vaccines work. Do your part and get vaccinated.  https://t.co/GaQQ4uf6mk\n",
      "1387511101471039489 2021-04-28 16:56:39 -0400 <fernzola> @tkbryant74 And the continuing assholes that are refusing to vaccine.\n",
      "1387507857357160450 2021-04-28 16:43:46 -0400 <ConlonTheGoblin> Get your vaccines people don’t be stupid  https://t.co/XRcQsr9P9x\n",
      "1387489963076374532 2021-04-28 15:32:40 -0400 <Reily23> @TLandshark Last I heard, there is no proof that it keeps you from spreading it. I went to 11 states last year and only caught it over a year later, so that’s why I’ve been hesitant to get the vaccine. Just uncharted waters at this stage 🤷🏻‍♂️\n"
     ]
    },
    {
     "name": "stdout",
     "output_type": "stream",
     "text": [
      "1387477673153384451 2021-04-28 14:43:50 -0400 <WestLoopTom> There are idiots going online to pay for a fake vaccination card. The vaccine is FREE.\n",
      "1387465975616966656 2021-04-28 13:57:21 -0400 <ChuziSarah> 💉🦠 Vaccine confidence, vaccine complacency, vaccine convenience, vaccine curious. So much more complex than the current narrative of vaccine hesitancy.  Amazing talk by @CameronWebb46 expertly moderated by @aquarl3s !!  #NUHealthEquityWk  https://t.co/c9a57fMy3o\n",
      "1387440212473753614 2021-04-28 12:14:58 -0400 <blissblar> My presentation went well but it was so stressful that I just want to be done with this day. At least I'm off tomorrow and Friday so I can get my second dose of the vaccine.\n",
      "1387437962477162498 2021-04-28 12:06:02 -0400 <AmyHansonPharmD> Effectiveness of Pfizer-BioNTech and Moderna Vaccines Against #COVID  94% protective from hospitalization in adults &gt;65yo - incredible! #IDTwitter 🔥hot off press 🔥🙌🏼🙌🏾💉🦠😷@ChiPublicHealth @IDPH @pfizer @moderna_tx #mRNA @HHSvaccines   https://t.co/omi77qR6FJ via @CDCgov\n",
      "1387437893023637508 2021-04-28 12:05:45 -0400 <toastedmellowjo> I got the Johnson and Johnson vaccine yesterday and I mean I’ve heard of people getting a little sick but y’all I was on the brink of death last night still have a headache like someone hit me in the head with a hammer but I think my fever is gone\n",
      "1387435011641651208 2021-04-28 11:54:18 -0400 <Reily23> @TLandshark I was mildly sick for two days, then completely better by day 4. My honest question is why would anyone in my age and health bracket get the vaccine?\n",
      "1387434481141882883 2021-04-28 11:52:12 -0400 <Reily23> @TLandshark Didn’t you get really sick from the vaccine?\n",
      "1387431376497123330 2021-04-28 11:39:52 -0400 <BridgetDegnen> I’m excited to cosponsor this vaccine event tomorrow! Dm me with any questions as always  https://t.co/YomDUagtfn\n",
      "1387428393965301760 2021-04-28 11:28:00 -0400 <Zoha_H_Syed> The “I got the COVID-19 vaccine” stickers to sell on eBay in 20 years\n",
      "1387415465346142228 2021-04-28 10:36:38 -0400 <kenziecoulee> @derryqueenhaha Those look like 10 vaccines.\n",
      "1387403839230431233 2021-04-28 09:50:26 -0400 <jose_sanchez84> @peterframpton Veins?!? The vaccine is injected intramuscular (IM). Wow, shows us what he knows about science. Sorry you have to read those crappy comments. It's like smelling a fart in public.\n",
      "1387391389302939652 2021-04-28 09:00:58 -0400 <theoriginaljc_> What is the fascination about which manufactures vaccine 💉 you received? If anyone mentions the covid vaccine that seems to be the immediate follow up question. Does it matter? And what are these people asking doing with the information? Conducting their own survey? 🙄\n",
      "1387391038541778951 2021-04-28 08:59:34 -0400 <huke_loover> Can’t tell if I’m having side effects from my covid vaccine or if it’s just general existential dread.\n",
      "1387380333209915392 2021-04-28 08:17:02 -0400 <davidinchicago> I think there should be a public database of #politicians who’ve received the #covid #vaccine @GOP @TheDemocrats @maddow @MSNBC @chrislhayes @CNN @ABC @NBCNews @FoxNews\n",
      "1387344239105822721 2021-04-28 05:53:36 -0400 <SonRanto> Not surprised that the same people that don’t understand mask guidance for the vaccinated are the same people who don’t understand masks or vaccines. Or anything pretty much.\n",
      "1387240834786021379 2021-04-27 23:02:43 -0400 <ChiJoules> So nice to be out with humans I love again! Yay vaccines! Also looks like I’m glad to have not seen that Cubs game....\n",
      "1387239960546263045 2021-04-27 22:59:14 -0400 <OuttaPocketBlu> Most f**ked thing I've seen all day. We need to send India our vaccines. They need it more.\n",
      "1387218679159480325 2021-04-27 21:34:41 -0400 <spencerwehde> 2nd Covid vaccine vibes\n",
      "1387191983253467143 2021-04-27 19:48:36 -0400 <daveyoung84> @GDH415 1/6 Americans are fully vaccinated. That’s pretty damn good. Hell of a lot better than flu vaccine rates\n",
      "1387191762058362885 2021-04-27 19:47:43 -0400 <ronwil96> I don't know who I hate worse, evangelical white people who use religion as the reason or black people who use the Tuskegee (and everything else the government did) reason for not getting the vaccine, to the both of you, shut your b!itch ass up and get the shot(s)!!!!!\n",
      "1387190763063218178 2021-04-27 19:43:45 -0400 <miguel60610> I got my first dose of the Covid-19 vaccine today. #vaccine #VaccinePassport  https://t.co/XrU3W2Upl3\n",
      "1387188222808186883 2021-04-27 19:33:39 -0400 <blewis823> @BoPeep1183 We have a deadly common enemy that needs to be defeated. We can't be enemies fighting it together no matter what vaccine we get.\n",
      "1387182828614569987 2021-04-27 19:12:13 -0400 <advent_crash> @Joe_Kach Not the one I wanted but it was the opportunity I had to get a vaccine. That thing knocked me and my wife out hard for a rough 24 hour period.\n",
      "1387170045986582532 2021-04-27 18:21:25 -0400 <slashorz> @cyril_leguern @ValsparChamp Surprenant que les joueurs ne soient pas vaccinés depuis un bout. Soit.\n",
      "1387162902537416705 2021-04-27 17:53:02 -0400 <GlennHolmesLA> @junienotjune @RealCandaceO why would that be hypocritical? Choosing to safeguard a small child w/ a brand new immune system against deadly viruses is common sense, can’t compare to a brand new vaccine for a brand new virus\n",
      "1387158859261915141 2021-04-27 17:36:58 -0400 <_morejoy> mfs a take pressed pills made in random ppl cribs but won’t take the vaccine hell nawl 🤣🤣🤣🤣\n",
      "1387154627179778050 2021-04-27 17:20:09 -0400 <dgdw> More vaccine appointment availability!   I’m not sure how to click on a piece of paper in our mailbox though … 😉  https://t.co/KsIjV550dA\n",
      "1387143886376681472 2021-04-27 16:37:29 -0400 <CirdecSongs> Looks like my official side effect for #Vaccine #2 is fatigue. Not “bone weary,” but just tired enough to know I should spend the day resting. #COVID19\n",
      "1387138336935092229 2021-04-27 16:15:25 -0400 <sudhamisramd> We maybe tired, stressed and fatigued,  But,  Patients/ people asking us questions about vaccine/meds &gt;&gt;&gt;&gt;&gt; People not engaging in conversation.\n",
      "1387136778835005440 2021-04-27 16:09:14 -0400 <triflingthing> second vaccine shot done. wwo\n",
      "1387129170019315714 2021-04-27 15:39:00 -0400 <OhHeyDeb> Second dose of my COVID-19 vaccine is in the books! Thanks to all of the healthcare workers and staff at Wrigley Field! #IGotMine @ Wrigley Field  https://t.co/VJuzbC6GYC\n",
      "1387123794700025858 2021-04-27 15:17:38 -0400 <RealParkerJ> seems unethical that Astra Zeneca vaccines are being produced in Baltimore to be shipped to poor countries when it hasn't been approved for use here?\n",
      "1387116611568537604 2021-04-27 14:49:06 -0400 <dedecrim> I only got a sore arm from my second dose. That’s it.   Everyone reacts differently, but no matter what the side effects from the vaccine are better than the alternative.\n",
      "1387112431424610312 2021-04-27 14:32:29 -0400 <giovanniiangel> Peak Joe Rogan was mid 2019-early 2020. Every since then he’s been saying dumb shit like this lol Getting the vaccine is not just to protect yourself, it’s to help stop the SPREAD, which younger people do more.\n",
      "1387111235565637632 2021-04-27 14:27:44 -0400 <DROPCOFFIN1> @PBS_Impulse9 @Less_HumbleTeej Is this brother on his first or second vaccine shot.\n",
      "1387109800740327432 2021-04-27 14:22:02 -0400 <cgillom> It’s done. I’m fully vaccinated. Today was a second and last shot. #vaccine #vaccinesavelives #gotmyshot #vaccinated @ Humboldt Park  https://t.co/iUYz9c4UpL\n",
      "1387107705270280196 2021-04-27 14:13:42 -0400 <najeesho> Well for one people have been outside doing whatever for awhile now. And two can we please stop pretending vaccines don’t work.\n",
      "1387106136151580672 2021-04-27 14:07:28 -0400 <FirepawBear> Result of giving the vaccine to the elderly first...   Elderly Beaches @ D-Lux Apt in Da Sky  https://t.co/qjg7EV8CzV\n",
      "1387105322406400002 2021-04-27 14:04:14 -0400 <_hybridatomsk> ANYONE WHO HAS NOT GOTTEN THE FUCKING VACCINE CAN LITERALLY LIE AND SAY THEY GOT IT. #COVID19   HOW EMBARRASSING.\n",
      "1387102447018168325 2021-04-27 13:52:49 -0400 <RepChuyGarcia> As the CEO of Alivio Medical Center in my district, Esther Corpuz is thankful the COVID-19 funding in the #AmericanRescuePlan enabled Alivio to roll out vaccines and will ensure that infection, hospitalization, and death rates do not remain disproportionate. #HelpIsHere  https://t.co/qqgspnOqkU\n"
     ]
    },
    {
     "name": "stdout",
     "output_type": "stream",
     "text": [
      "1387096412765233156 2021-04-27 13:28:50 -0400 <RepChuyGarcia> The US has administered over 230 million vaccine doses, with 95 million+ Americans fully vaccinated! 🎉 Esther Corpuz, my virtual guest for @POTUS’ Joint Address to Congress, has been on the frontlines helping the hardest hit communities in my district. #HelpIsHere  https://t.co/Q87q66yJNO\n",
      "1387080676667703296 2021-04-27 12:26:18 -0400 <strega_nona_> There shouldn’t be a patent on a vaccine that is needed the world over to prevent the spread of COVID pass it on\n",
      "1387076589402329094 2021-04-27 12:10:04 -0400 <mohobatzindabad> @RajNavy1009 There are definitely talks about needing yearly booster shots for pfizer/moderna vaccines which have been created with mRNA tech and so I read up about covaxin technology. It's similar to flu shot so would need.\n",
      "1387065254753013763 2021-04-27 11:25:01 -0400 <mohobatzindabad> A live attenuated virus vaccine is the most efficient one and gives life long immunity against a disease\n",
      "1387065056156860425 2021-04-27 11:24:14 -0400 <mohobatzindabad> @AntiNormie666 Covishield is a viral vector vaccine and covid 19 is the first disease this tech is being used for. I am not sure about booster shots but pretty sure would be required.\n",
      "1387062765827891201 2021-04-27 11:15:08 -0400 <mohobatzindabad> The flu shot that we get is an inactivated vaccine and we need to get booster shots every year. Covaxin is an inactivated vaccine too and will require booster shots every year.\n",
      "1387058899849826313 2021-04-27 10:59:46 -0400 <itsgloriairene> Vaccine number two feeling like a mild hangover ( body ache and nausea) with little to no mobility to my left arm. 🙃 Shout out to my autoimmune disease for the past year tho cause the side effects feel mild/ familiar 😂😂\n",
      "1387044996700774400 2021-04-27 10:04:31 -0400 <WestLoopTom> Have you received one Covid 19 vaccine and are you planning on skipping the second dose?  If so, why? If you’re fully vaccinated answer no.\n",
      "1387044896641413126 2021-04-27 10:04:08 -0400 <jaloola> Can you require your employees to have a COVID-19 vaccine?  https://t.co/E7uYmsTJre\n",
      "1387042226115514372 2021-04-27 09:53:31 -0400 <WilliamBHoenig> @julietast2 @gadboit I don’t think these are incompatible views... it’s just a matter of admitting that the only work NPIs really do is buying time for vaccines to end the pandemic, rather than ending the pandemic themselves.\n",
      "1387041902101286914 2021-04-27 09:52:14 -0400 <CharlieGers> refusing to take the vaccine to endanger your life and the lives of others to own the libs  https://t.co/D6TbzHBdz0\n",
      "1387040688345436160 2021-04-27 09:47:24 -0400 <gwengoose> 10 more days left of the semester and 2 weeks until i get my second vaccine 👏🏻 the future is lookin good people\n",
      "1387022335002255367 2021-04-27 08:34:28 -0400 <kgburke3> @OrderofTheDimen @POTUS Opinion: COVID-19 vaccines make for a plot twist, but how do we get on with our stories?  https://t.co/4lGwb2CpeG\n",
      "1387022202546102276 2021-04-27 08:33:57 -0400 <kgburke3> Opinion: COVID-19 vaccines make for a plot twist, but how do we get on with our stories?  https://t.co/4lGwb2CpeG\n",
      "1387016122889904140 2021-04-27 08:09:47 -0400 <WilliamBHoenig> @ThatRyanChap @BristOliver You have such impressive vaccine uptake numbers in the U.K.  I think the US program is going well, but we’re starting to run out of people who are excited about getting vaccinated, and this is a place we’re going to end up not as well as you. It will be a problem in places.\n"
     ]
    }
   ],
   "source": [
    "#configuration\n",
    "config = twint.Config()\n",
    "config.Search = \"vaccine\"\n",
    "config.Lang = \"en\"\n",
    "config.Limit = 100\n",
    "config.Geo = \"41.881832,-87.623177,20km\"\n",
    "config.Since = str(since) \n",
    "config.Until = str(until)\n",
    "config.Store_csv = True\n",
    "config.Output = \"twint_test.csv\"\n",
    "#running search\n",
    "output = twint.run.Search(config)"
   ]
  },
  {
   "cell_type": "code",
   "execution_count": null,
   "metadata": {},
   "outputs": [],
   "source": []
  }
 ],
 "metadata": {
  "kernelspec": {
   "display_name": "Python 3",
   "language": "python",
   "name": "python3"
  },
  "language_info": {
   "codemirror_mode": {
    "name": "ipython",
    "version": 3
   },
   "file_extension": ".py",
   "mimetype": "text/x-python",
   "name": "python",
   "nbconvert_exporter": "python",
   "pygments_lexer": "ipython3",
   "version": "3.6.9"
  }
 },
 "nbformat": 4,
 "nbformat_minor": 4
}
